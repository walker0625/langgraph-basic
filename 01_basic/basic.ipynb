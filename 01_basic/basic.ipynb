{
 "cells": [
  {
   "cell_type": "markdown",
   "id": "27a9fbb9",
   "metadata": {},
   "source": [
    "# Langgraph Basic\n",
    "- State와 방향성이 Point"
   ]
  },
  {
   "cell_type": "code",
   "execution_count": 14,
   "id": "86e47504",
   "metadata": {},
   "outputs": [
    {
     "data": {
      "text/plain": [
       "True"
      ]
     },
     "execution_count": 14,
     "metadata": {},
     "output_type": "execute_result"
    }
   ],
   "source": [
    "from dotenv import load_dotenv\n",
    "load_dotenv()"
   ]
  },
  {
   "cell_type": "markdown",
   "id": "949001c0",
   "metadata": {},
   "source": [
    "## 1. State"
   ]
  },
  {
   "cell_type": "code",
   "execution_count": 15,
   "id": "ee22fe5a",
   "metadata": {},
   "outputs": [],
   "source": [
    "from typing import Annotated, TypedDict\n",
    "from langgraph.graph import StateGraph, START, END\n",
    "from langgraph.graph.message import add_messages\n",
    "from langchain_openai import ChatOpenAI"
   ]
  },
  {
   "cell_type": "code",
   "execution_count": 16,
   "id": "3dcd735a",
   "metadata": {},
   "outputs": [],
   "source": [
    "class BasicState(TypedDict):\n",
    "    messages: Annotated[list, add_messages]"
   ]
  },
  {
   "cell_type": "code",
   "execution_count": 21,
   "id": "ca3ca7df",
   "metadata": {},
   "outputs": [],
   "source": [
    "def chat(state: BasicState):\n",
    "    model = ChatOpenAI(\n",
    "        model_name=\"gpt-4.1-mini\",\n",
    "        temperature=0\n",
    "    )\n",
    "    \n",
    "    return {'messages': [model.invoke(state['messages'])]}"
   ]
  },
  {
   "cell_type": "markdown",
   "id": "8317557a",
   "metadata": {},
   "source": [
    "## 2. Graph(Node/Edge)"
   ]
  },
  {
   "cell_type": "code",
   "execution_count": 22,
   "id": "194f3d52",
   "metadata": {},
   "outputs": [
    {
     "data": {
      "text/plain": [
       "{'nodes': {},\n",
       " 'edges': set(),\n",
       " 'branches': defaultdict(dict, {}),\n",
       " 'schemas': {__main__.BasicState: {'messages': <langgraph.channels.binop.BinaryOperatorAggregate at 0x1c97fe2efc0>}},\n",
       " 'channels': {'messages': <langgraph.channels.binop.BinaryOperatorAggregate at 0x1c97fe2efc0>},\n",
       " 'managed': {},\n",
       " 'compiled': False,\n",
       " 'waiting_edges': set(),\n",
       " 'state_schema': __main__.BasicState,\n",
       " 'input_schema': __main__.BasicState,\n",
       " 'output_schema': __main__.BasicState,\n",
       " 'context_schema': None}"
      ]
     },
     "execution_count": 22,
     "metadata": {},
     "output_type": "execute_result"
    }
   ],
   "source": [
    "graph_bulider = StateGraph(BasicState)\n",
    "graph_bulider.__dict__"
   ]
  },
  {
   "cell_type": "code",
   "execution_count": 23,
   "id": "94be7f72",
   "metadata": {},
   "outputs": [
    {
     "data": {
      "text/plain": [
       "{'nodes': {'graphChatbot': StateNodeSpec(runnable=graphChatbot(tags=None, recurse=True, explode_args=False, func_accepts={}), metadata=None, input_schema=<class '__main__.BasicState'>, retry_policy=None, cache_policy=None, ends=(), defer=False)},\n",
       " 'edges': set(),\n",
       " 'branches': defaultdict(dict, {}),\n",
       " 'schemas': {__main__.BasicState: {'messages': <langgraph.channels.binop.BinaryOperatorAggregate at 0x1c97fe2efc0>}},\n",
       " 'channels': {'messages': <langgraph.channels.binop.BinaryOperatorAggregate at 0x1c97fe2efc0>},\n",
       " 'managed': {},\n",
       " 'compiled': False,\n",
       " 'waiting_edges': set(),\n",
       " 'state_schema': __main__.BasicState,\n",
       " 'input_schema': __main__.BasicState,\n",
       " 'output_schema': __main__.BasicState,\n",
       " 'context_schema': None}"
      ]
     },
     "execution_count": 23,
     "metadata": {},
     "output_type": "execute_result"
    }
   ],
   "source": [
    "graph_bulider.add_node('graphChatbot', chat)\n",
    "graph_bulider.__dict__"
   ]
  },
  {
   "cell_type": "code",
   "execution_count": 26,
   "id": "ea0940e8",
   "metadata": {},
   "outputs": [
    {
     "data": {
      "text/plain": [
       "{'nodes': {'graphChatbot': StateNodeSpec(runnable=graphChatbot(tags=None, recurse=True, explode_args=False, func_accepts={}), metadata=None, input_schema=<class '__main__.BasicState'>, retry_policy=None, cache_policy=None, ends=(), defer=False)},\n",
       " 'edges': {('__start__', 'graphChatbot'), ('graphChatbot', '__end__')},\n",
       " 'branches': defaultdict(dict, {}),\n",
       " 'schemas': {__main__.BasicState: {'messages': <langgraph.channels.binop.BinaryOperatorAggregate at 0x1c97fe2efc0>}},\n",
       " 'channels': {'messages': <langgraph.channels.binop.BinaryOperatorAggregate at 0x1c97fe2efc0>},\n",
       " 'managed': {},\n",
       " 'compiled': False,\n",
       " 'waiting_edges': set(),\n",
       " 'state_schema': __main__.BasicState,\n",
       " 'input_schema': __main__.BasicState,\n",
       " 'output_schema': __main__.BasicState,\n",
       " 'context_schema': None}"
      ]
     },
     "execution_count": 26,
     "metadata": {},
     "output_type": "execute_result"
    }
   ],
   "source": [
    "graph_bulider.add_edge(START, 'graphChatbot')\n",
    "graph_bulider.__dict__"
   ]
  },
  {
   "cell_type": "code",
   "execution_count": 27,
   "id": "5e02a170",
   "metadata": {},
   "outputs": [
    {
     "data": {
      "text/plain": [
       "{'nodes': {'graphChatbot': StateNodeSpec(runnable=graphChatbot(tags=None, recurse=True, explode_args=False, func_accepts={}), metadata=None, input_schema=<class '__main__.BasicState'>, retry_policy=None, cache_policy=None, ends=(), defer=False)},\n",
       " 'edges': {('__start__', 'graphChatbot'), ('graphChatbot', '__end__')},\n",
       " 'branches': defaultdict(dict, {}),\n",
       " 'schemas': {__main__.BasicState: {'messages': <langgraph.channels.binop.BinaryOperatorAggregate at 0x1c97fe2efc0>}},\n",
       " 'channels': {'messages': <langgraph.channels.binop.BinaryOperatorAggregate at 0x1c97fe2efc0>},\n",
       " 'managed': {},\n",
       " 'compiled': False,\n",
       " 'waiting_edges': set(),\n",
       " 'state_schema': __main__.BasicState,\n",
       " 'input_schema': __main__.BasicState,\n",
       " 'output_schema': __main__.BasicState,\n",
       " 'context_schema': None}"
      ]
     },
     "execution_count": 27,
     "metadata": {},
     "output_type": "execute_result"
    }
   ],
   "source": [
    "graph_bulider.add_edge('graphChatbot', END)\n",
    "graph_bulider.__dict__"
   ]
  },
  {
   "cell_type": "code",
   "execution_count": 29,
   "id": "54ff54b8",
   "metadata": {},
   "outputs": [
    {
     "data": {
      "image/png": "[encoded data removed]",
      "text/plain": [
       "<langgraph.graph.state.CompiledStateGraph object at 0x000001C96139B490>"
      ]
     },
     "execution_count": 29,
     "metadata": {},
     "output_type": "execute_result"
    }
   ],
   "source": [
    "graph = graph_bulider.compile()\n",
    "graph"
   ]
  },
  {
   "cell_type": "code",
   "execution_count": 30,
   "id": "7d06c4d7",
   "metadata": {},
   "outputs": [],
   "source": [
    "question = '팔란티어에 대해서 알려줘'"
   ]
  },
  {
   "cell_type": "code",
   "execution_count": 31,
   "id": "a58bf776",
   "metadata": {},
   "outputs": [
    {
     "data": {
      "text/plain": [
       "{'messages': [HumanMessage(content='팔란티어에 대해서 알려줘', additional_kwargs={}, response_metadata={}, id='282279fe-8221-4df6-80c5-41ba7fbd23ec'),\n",
       "  AIMessage(content='팔란티어(Palantir Technologies)는 미국의 데이터 분석 및 소프트웨어 회사로, 주로 대규모 데이터 통합, 분석, 시각화 솔루션을 제공합니다. 2003년에 피터 틸(Peter Thiel), 네이선 게팅스(Nathan Gettings), 조 로스스타인(Joe Lonsdale), 스티븐 코헨(Stephen Cohen), 알렉스 카프(Alex Karp) 등이 공동 설립했습니다.\\n\\n### 주요 정보\\n- **본사:** 미국 캘리포니아주 팔로알토\\n- **주요 제품:**\\n  - **Palantir Gotham:** 주로 정부 기관과 정보기관에서 사용하는 플랫폼으로, 테러 방지, 범죄 수사, 국방 등 다양한 분야에서 활용됩니다.\\n  - **Palantir Foundry:** 기업용 데이터 통합 및 분석 플랫폼으로, 금융, 제조, 헬스케어 등 다양한 산업에서 사용됩니다.\\n- **주요 고객:** 미국 정부 기관(국방부, CIA, FBI 등), 금융기관, 대기업 등\\n- **상장:** 2020년 9월 뉴욕증권거래소(NYSE)에 직접 상장(Direct Listing) 방식으로 상장됨\\n\\n### 특징 및 강점\\n- 방대한 데이터를 실시간으로 통합하고 분석할 수 있는 강력한 플랫폼 제공\\n- 복잡한 데이터셋을 시각화하여 의사결정을 지원\\n- 보안과 프라이버시를 중시하는 설계\\n- 정부 및 민간 부문에서 폭넓게 활용\\n\\n팔란티어는 빅데이터와 인공지능 기술을 활용해 복잡한 문제를 해결하는 데 중점을 두고 있으며, 특히 국가 안보와 관련된 분야에서 중요한 역할을 하고 있습니다.', additional_kwargs={'refusal': None}, response_metadata={'token_usage': {'completion_tokens': 388, 'prompt_tokens': 15, 'total_tokens': 403, 'completion_tokens_details': {'accepted_prediction_tokens': 0, 'audio_tokens': 0, 'reasoning_tokens': 0, 'rejected_prediction_tokens': 0}, 'prompt_tokens_details': {'audio_tokens': 0, 'cached_tokens': 0}}, 'model_name': 'gpt-4.1-mini-2025-04-14', 'system_fingerprint': 'fp_c064fdde7c', 'id': 'chatcmpl-CRY8gzNrUaYk9ZBh9CEuhrurNA8PL', 'service_tier': 'default', 'finish_reason': 'stop', 'logprobs': None}, id='run--e2043c9b-f461-4881-a034-497394afd927-0', usage_metadata={'input_tokens': 15, 'output_tokens': 388, 'total_tokens': 403, 'input_token_details': {'audio': 0, 'cache_read': 0}, 'output_token_details': {'audio': 0, 'reasoning': 0}})]}"
      ]
     },
     "execution_count": 31,
     "metadata": {},
     "output_type": "execute_result"
    }
   ],
   "source": [
    "result = graph.invoke({'messages' : [('user', question)]})\n",
    "result"
   ]
  },
  {
   "cell_type": "code",
   "execution_count": 32,
   "id": "5dd93150",
   "metadata": {},
   "outputs": [
    {
     "name": "stdout",
     "output_type": "stream",
     "text": [
      "팔란티어에 대해서 알려줘\n",
      "====================================================================================================\n",
      "팔란티어(Palantir Technologies)는 미국의 데이터 분석 및 소프트웨어 회사로, 주로 대규모 데이터 통합, 분석, 시각화 솔루션을 제공합니다. 2003년에 피터 틸(Peter Thiel), 네이선 게팅스(Nathan Gettings), 조 로스스타인(Joe Lonsdale), 스티븐 코헨(Stephen Cohen), 알렉스 카프(Alex Karp) 등이 공동 설립했습니다.\n",
      "\n",
      "### 주요 정보\n",
      "- **본사:** 미국 캘리포니아주 팔로알토\n",
      "- **주요 제품:**\n",
      "  - **Palantir Gotham:** 주로 정부 기관과 정보기관에서 사용하는 플랫폼으로, 테러 방지, 범죄 수사, 국방 등 다양한 분야에서 활용됩니다.\n",
      "  - **Palantir Foundry:** 기업용 데이터 통합 및 분석 플랫폼으로, 금융, 제조, 헬스케어 등 다양한 산업에서 사용됩니다.\n",
      "- **주요 고객:** 미국 정부 기관(국방부, CIA, FBI 등), 금융기관, 대기업 등\n",
      "- **상장:** 2020년 9월 뉴욕증권거래소(NYSE)에 직접 상장(Direct Listing) 방식으로 상장됨\n",
      "\n",
      "### 특징 및 강점\n",
      "- 방대한 데이터를 실시간으로 통합하고 분석할 수 있는 강력한 플랫폼 제공\n",
      "- 복잡한 데이터셋을 시각화하여 의사결정을 지원\n",
      "- 보안과 프라이버시를 중시하는 설계\n",
      "- 정부 및 민간 부문에서 폭넓게 활용\n",
      "\n",
      "팔란티어는 빅데이터와 인공지능 기술을 활용해 복잡한 문제를 해결하는 데 중점을 두고 있으며, 특히 국가 안보와 관련된 분야에서 중요한 역할을 하고 있습니다.\n",
      "====================================================================================================\n"
     ]
    }
   ],
   "source": [
    "for item in result['messages']:\n",
    "    print(item.content)\n",
    "    print('='*100)"
   ]
  },
  {
   "cell_type": "markdown",
   "id": "73e2c90f",
   "metadata": {},
   "source": [
    "## 3. Tool"
   ]
  },
  {
   "cell_type": "code",
   "execution_count": 33,
   "id": "6f66d226",
   "metadata": {},
   "outputs": [],
   "source": [
    "from langgraph.prebuilt.tool_node import ToolNode, tools_condition\n",
    "from langchain_tavily import TavilySearch"
   ]
  },
  {
   "cell_type": "code",
   "execution_count": 34,
   "id": "bce40669",
   "metadata": {},
   "outputs": [
    {
     "data": {
      "text/plain": [
       "[TavilySearch(max_results=3, api_wrapper=TavilySearchAPIWrapper(tavily_api_key=SecretStr('**********'), api_base_url=None))]"
      ]
     },
     "execution_count": 34,
     "metadata": {},
     "output_type": "execute_result"
    }
   ],
   "source": [
    "# 1. Tool 세팅\n",
    "search_tool = TavilySearch(max_results=3)\n",
    "tools = [search_tool]\n",
    "tools"
   ]
  },
  {
   "cell_type": "code",
   "execution_count": 35,
   "id": "d8ba6c96",
   "metadata": {},
   "outputs": [],
   "source": [
    "# 2. State 정의\n",
    "class State(TypedDict):\n",
    "    messages: Annotated[list, add_messages]"
   ]
  },
  {
   "cell_type": "code",
   "execution_count": 36,
   "id": "949dfb76",
   "metadata": {},
   "outputs": [
    {
     "data": {
      "text/plain": [
       "RunnableBinding(bound=ChatOpenAI(client=<openai.resources.chat.completions.completions.Completions object at 0x000001C97FE23E90>, async_client=<openai.resources.chat.completions.completions.AsyncCompletions object at 0x000001C97FE202D0>, root_client=<openai.OpenAI object at 0x000001C96137BF10>, root_async_client=<openai.AsyncOpenAI object at 0x000001C97FE23B10>, model_name='gpt-4.1-mini', temperature=0.0, model_kwargs={}, openai_api_key=SecretStr('**********'), stream_usage=True), kwargs={'tools': [{'type': 'function', 'function': {'name': 'tavily_search', 'description': 'A search engine optimized for comprehensive, accurate, and trusted results. Useful for when you need to answer questions about current events. It not only retrieves URLs and snippets, but offers advanced search depths, domain management, time range filters, and image search, this tool delivers real-time, accurate, and citation-backed results.Input should be a search query.', 'parameters': {'properties': {'query': {'description': 'Search query to look up', 'type': 'string'}, 'include_domains': {'anyOf': [{'items': {'type': 'string'}, 'type': 'array'}, {'type': 'null'}], 'default': [], 'description': 'A list of domains to restrict search results to.\\n\\n        Use this parameter when:\\n        1. The user explicitly requests information from specific websites (e.g., \"Find climate data from nasa.gov\")\\n        2. The user mentions an organization or company without specifying the domain (e.g., \"Find information about iPhones from Apple\")\\n\\n        In both cases, you should determine the appropriate domains (e.g., [\"nasa.gov\"] or [\"apple.com\"]) and set this parameter.\\n\\n        Results will ONLY come from the specified domains - no other sources will be included.\\n        Default is None (no domain restriction).\\n        '}, 'exclude_domains': {'anyOf': [{'items': {'type': 'string'}, 'type': 'array'}, {'type': 'null'}], 'default': [], 'description': 'A list of domains to exclude from search results.\\n\\n        Use this parameter when:\\n        1. The user explicitly requests to avoid certain websites (e.g., \"Find information about climate change but not from twitter.com\")\\n        2. The user mentions not wanting results from specific organizations without naming the domain (e.g., \"Find phone reviews but nothing from Apple\")\\n\\n        In both cases, you should determine the appropriate domains to exclude (e.g., [\"twitter.com\"] or [\"apple.com\"]) and set this parameter.\\n\\n        Results will filter out all content from the specified domains.\\n        Default is None (no domain exclusion).\\n        '}, 'search_depth': {'anyOf': [{'enum': ['basic', 'advanced'], 'type': 'string'}, {'type': 'null'}], 'default': 'basic', 'description': 'Controls search thoroughness and result comprehensiveness.\\n    \\n        Use \"basic\" for simple queries requiring quick, straightforward answers.\\n        \\n        Use \"advanced\" (default) for complex queries, specialized topics, \\n        rare information, or when in-depth analysis is needed.\\n        '}, 'include_images': {'anyOf': [{'type': 'boolean'}, {'type': 'null'}], 'default': False, 'description': 'Determines if the search returns relevant images along with text results.\\n   \\n        Set to True when the user explicitly requests visuals or when images would \\n        significantly enhance understanding (e.g., \"Show me what black holes look like,\" \\n        \"Find pictures of Renaissance art\").\\n        \\n        Leave as False (default) for most informational queries where text is sufficient.\\n        '}, 'time_range': {'anyOf': [{'enum': ['day', 'week', 'month', 'year'], 'type': 'string'}, {'type': 'null'}], 'default': None, 'description': 'Limits results to content published within a specific timeframe.\\n        \\n        ONLY set this when the user explicitly mentions a time period \\n        (e.g., \"latest AI news,\" \"articles from last week\").\\n        \\n        For less popular or niche topics, use broader time ranges \\n        (\"month\" or \"year\") to ensure sufficient relevant results.\\n   \\n        Options: \"day\" (24h), \"week\" (7d), \"month\" (30d), \"year\" (365d).\\n        \\n        Default is None.\\n        '}, 'topic': {'anyOf': [{'enum': ['general', 'news', 'finance'], 'type': 'string'}, {'type': 'null'}], 'default': 'general', 'description': 'Specifies search category for optimized results.\\n   \\n        Use \"general\" (default) for most queries, INCLUDING those with terms like \\n        \"latest,\" \"newest,\" or \"recent\" when referring to general information.\\n\\n        Use \"finance\" for markets, investments, economic data, or financial news.\\n\\n        Use \"news\" ONLY for politics, sports, or major current events covered by \\n        mainstream media - NOT simply because a query asks for \"new\" information.\\n        '}, 'include_favicon': {'anyOf': [{'type': 'boolean'}, {'type': 'null'}], 'default': False, 'description': \"Determines whether to include favicon URLs for each search result.\\n        \\n        When enabled, each search result will include the website's favicon URL,\\n        which can be useful for:\\n        - Building rich UI interfaces with visual website indicators\\n        - Providing visual cues about the source's credibility or brand\\n        - Creating bookmark-like displays with recognizable site icons\\n        \\n        Set to True when creating user interfaces that benefit from visual branding\\n        or when favicon information enhances the user experience.\\n        \\n        Default is False to minimize response size and API usage.\\n        \"}, 'start_date': {'anyOf': [{'type': 'string'}, {'type': 'null'}], 'default': None, 'description': 'Filters search results to include only content published on or after this date.\\n        \\n        Use this parameter when you need to:\\n        - Find recent developments or updates on a topic\\n        - Exclude outdated information from search results\\n        - Focus on content within a specific timeframe\\n        - Combine with end_date to create a custom date range\\n        \\n        Format must be YYYY-MM-DD (e.g., \"2024-01-15\" for January 15, 2024).\\n        \\n        Examples:\\n        - \"2024-01-01\" - Results from January 1, 2024 onwards\\n        - \"2023-12-25\" - Results from December 25, 2023 onwards\\n        \\n        When combined with end_date, creates a precise date range filter.\\n        \\n        Default is None (no start date restriction).\\n        '}, 'end_date': {'anyOf': [{'type': 'string'}, {'type': 'null'}], 'default': None, 'description': 'Filters search results to include only content published on or before this date.\\n        \\n        Use this parameter when you need to:\\n        - Exclude content published after a certain date\\n        - Study historical information or past events\\n        - Research how topics were covered during specific time periods\\n        - Combine with start_date to create a custom date range\\n        \\n        Format must be YYYY-MM-DD (e.g., \"2024-03-31\" for March 31, 2024).\\n        \\n        Examples:\\n        - \"2024-03-31\" - Results up to and including March 31, 2024\\n        - \"2023-12-31\" - Results up to and including December 31, 2023\\n        \\n        When combined with start_date, creates a precise date range filter.\\n        For example: start_date=\"2024-01-01\", end_date=\"2024-03-31\" \\n        returns results from Q1 2024 only.\\n        \\n        Default is None (no end date restriction).\\n        '}}, 'required': ['query'], 'type': 'object'}}}]}, config={}, config_factories=[])"
      ]
     },
     "execution_count": 36,
     "metadata": {},
     "output_type": "execute_result"
    }
   ],
   "source": [
    "# 3. LLM + Tool 연결\n",
    "model = ChatOpenAI(\n",
    "    model='gpt-4.1-mini',\n",
    "    temperature=0\n",
    ")\n",
    "\n",
    "llm_with_tool = model.bind_tools(tools)\n",
    "llm_with_tool"
   ]
  },
  {
   "cell_type": "code",
   "execution_count": 37,
   "id": "f729efa7",
   "metadata": {},
   "outputs": [
    {
     "data": {
      "text/plain": [
       "{'nodes': {'chatbot': StateNodeSpec(runnable=chatbot(tags=None, recurse=True, explode_args=False, func_accepts={}), metadata=None, input_schema=<class '__main__.State'>, retry_policy=None, cache_policy=None, ends=(), defer=False)},\n",
       " 'edges': set(),\n",
       " 'branches': defaultdict(dict, {}),\n",
       " 'schemas': {__main__.State: {'messages': <langgraph.channels.binop.BinaryOperatorAggregate at 0x1c910206e40>}},\n",
       " 'channels': {'messages': <langgraph.channels.binop.BinaryOperatorAggregate at 0x1c910206e40>},\n",
       " 'managed': {},\n",
       " 'compiled': False,\n",
       " 'waiting_edges': set(),\n",
       " 'state_schema': __main__.State,\n",
       " 'input_schema': __main__.State,\n",
       " 'output_schema': __main__.State,\n",
       " 'context_schema': None}"
      ]
     },
     "execution_count": 37,
     "metadata": {},
     "output_type": "execute_result"
    }
   ],
   "source": [
    "# 4. chatbot 노드 생성\n",
    "def agent_chatbot(state: State):\n",
    "    answer = llm_with_tool.invoke(state['messages'])\n",
    "    return {'messages': [answer]}\n",
    "\n",
    "graph_builder = StateGraph(State)\n",
    "graph_builder.add_node('chatbot', agent_chatbot)\n",
    "graph_builder.__dict__"
   ]
  },
  {
   "cell_type": "code",
   "execution_count": 38,
   "id": "c29b56cb",
   "metadata": {},
   "outputs": [
    {
     "data": {
      "text/plain": [
       "{'nodes': {'chatbot': StateNodeSpec(runnable=chatbot(tags=None, recurse=True, explode_args=False, func_accepts={}), metadata=None, input_schema=<class '__main__.State'>, retry_policy=None, cache_policy=None, ends=(), defer=False),\n",
       "  'tools': StateNodeSpec(runnable=tools(tags=None, recurse=True, explode_args=False, func_accepts={'config': ('N/A', <class 'inspect._empty'>), 'store': ('store', None)}, tools_by_name={'tavily_search': TavilySearch(max_results=3, api_wrapper=TavilySearchAPIWrapper(tavily_api_key=SecretStr('**********'), api_base_url=None))}, tool_to_state_args={'tavily_search': {}}, tool_to_store_arg={'tavily_search': None}, handle_tool_errors=True, messages_key='messages'), metadata=None, input_schema=<class '__main__.State'>, retry_policy=None, cache_policy=None, ends=(), defer=False)},\n",
       " 'edges': set(),\n",
       " 'branches': defaultdict(dict, {}),\n",
       " 'schemas': {__main__.State: {'messages': <langgraph.channels.binop.BinaryOperatorAggregate at 0x1c910206e40>}},\n",
       " 'channels': {'messages': <langgraph.channels.binop.BinaryOperatorAggregate at 0x1c910206e40>},\n",
       " 'managed': {},\n",
       " 'compiled': False,\n",
       " 'waiting_edges': set(),\n",
       " 'state_schema': __main__.State,\n",
       " 'input_schema': __main__.State,\n",
       " 'output_schema': __main__.State,\n",
       " 'context_schema': None}"
      ]
     },
     "execution_count": 38,
     "metadata": {},
     "output_type": "execute_result"
    }
   ],
   "source": [
    "# 5. 도구 노드 생성\n",
    "tool_node = ToolNode(tools=tools)\n",
    "graph_builder.add_node('tools', tool_node)\n",
    "graph_builder.__dict__"
   ]
  },
  {
   "cell_type": "code",
   "execution_count": 39,
   "id": "71aedc8d",
   "metadata": {},
   "outputs": [
    {
     "data": {
      "text/plain": [
       "{'nodes': {'chatbot': StateNodeSpec(runnable=chatbot(tags=None, recurse=True, explode_args=False, func_accepts={}), metadata=None, input_schema=<class '__main__.State'>, retry_policy=None, cache_policy=None, ends=(), defer=False),\n",
       "  'tools': StateNodeSpec(runnable=tools(tags=None, recurse=True, explode_args=False, func_accepts={'config': ('N/A', <class 'inspect._empty'>), 'store': ('store', None)}, tools_by_name={'tavily_search': TavilySearch(max_results=3, api_wrapper=TavilySearchAPIWrapper(tavily_api_key=SecretStr('**********'), api_base_url=None))}, tool_to_state_args={'tavily_search': {}}, tool_to_store_arg={'tavily_search': None}, handle_tool_errors=True, messages_key='messages'), metadata=None, input_schema=<class '__main__.State'>, retry_policy=None, cache_policy=None, ends=(), defer=False)},\n",
       " 'edges': set(),\n",
       " 'branches': defaultdict(dict,\n",
       "             {'chatbot': {'tools_condition': BranchSpec(path=tools_condition(tags=None, recurse=True, explode_args=False, func_accepts={}), ends={'tools': 'tools', '__end__': '__end__'}, input_schema=None)}}),\n",
       " 'schemas': {__main__.State: {'messages': <langgraph.channels.binop.BinaryOperatorAggregate at 0x1c910206e40>}},\n",
       " 'channels': {'messages': <langgraph.channels.binop.BinaryOperatorAggregate at 0x1c910206e40>},\n",
       " 'managed': {},\n",
       " 'compiled': False,\n",
       " 'waiting_edges': set(),\n",
       " 'state_schema': __main__.State,\n",
       " 'input_schema': __main__.State,\n",
       " 'output_schema': __main__.State,\n",
       " 'context_schema': None}"
      ]
     },
     "execution_count": 39,
     "metadata": {},
     "output_type": "execute_result"
    }
   ],
   "source": [
    "# 6. 조건부 엣지 설정\n",
    "graph_builder.add_conditional_edges(\n",
    "    source='chatbot',\n",
    "    path=tools_condition,\n",
    "    path_map={'tools' : 'tools', END : END}\n",
    ")\n",
    "graph_builder.__dict__"
   ]
  },
  {
   "cell_type": "code",
   "execution_count": 40,
   "id": "5dad50b8",
   "metadata": {},
   "outputs": [
    {
     "data": {
      "image/png": "[encoded data removed]",
      "text/plain": [
       "<langgraph.graph.state.CompiledStateGraph object at 0x000001C97FE18150>"
      ]
     },
     "execution_count": 40,
     "metadata": {},
     "output_type": "execute_result"
    }
   ],
   "source": [
    "# 7. 엣지 연결\n",
    "graph_builder.add_edge(\"tools\", \"chatbot\")\n",
    "graph_builder.add_edge(START, \"chatbot\")\n",
    "\n",
    "# 8. 그래프 컴파일\n",
    "graph = graph_builder.compile()\n",
    "graph"
   ]
  },
  {
   "cell_type": "code",
   "execution_count": 41,
   "id": "e4a95e12",
   "metadata": {},
   "outputs": [
    {
     "name": "stdout",
     "output_type": "stream",
     "text": [
      "------------------------------ messages ------------------------------\n",
      "================================\u001b[1m Human Message \u001b[0m=================================\n",
      "\n",
      "2025년 석촌역에 10월에 축제 하는거 알아? 우선 그 축제부터 찾고, 이후에 세부내용 웹서치 해서 다시 말해줘\n",
      "------------------------------ messages ------------------------------\n",
      "==================================\u001b[1m Ai Message \u001b[0m==================================\n",
      "Tool Calls:\n",
      "  tavily_search (call_1whQ5f7Rt6VKiBbRuQ1RutZx)\n",
      " Call ID: call_1whQ5f7Rt6VKiBbRuQ1RutZx\n",
      "  Args:\n",
      "    query: 2025년 10월 석촌역 축제\n",
      "------------------------------ messages ------------------------------\n",
      "=================================\u001b[1m Tool Message \u001b[0m=================================\n",
      "Name: tavily_search\n",
      "\n",
      "{\"query\": \"2025년 10월 석촌역 축제\", \"follow_up_questions\": null, \"answer\": null, \"images\": [], \"results\": [{\"url\": \"https://www.nxsquare.com/cocsmagazinefestivals/?bmode=view&idx=168069363\", \"title\": \"2025 송파낭만페스타, 석촌호수에서 펼쳐지는 클래식·영화음악\", \"content\": \"행사 개요. 행사명 : 2025 송파낭만페스타. 일시 : 2025년 10월 11일(토) 11:00 ~ 19:30. 장소 : 서울 송파구 석촌호수 서호 수변무대. 대상 : 송파구\", \"score\": 0.80844593, \"raw_content\": null}, {\"url\": \"https://www.tiktok.com/discover/10%EC%9B%94-%EC%84%9D%EC%B4%8C%ED%98%B8%EC%88%98-%EC%B6%95%EC%A0%9C-2025%EB%85%84\", \"title\": \"10월 석촌호수 축제 2025년 - TikTok\", \"content\": \"5일 뒤 시작되는 석촌호수 빛축제 석촌호수에서 열리는 가을, 겨울 대표축제 루미나리에가 10/25~2/28 동안 열린대! 보기만 해도 두근두근 설레는\", \"score\": 0.80089486, \"raw_content\": null}, {\"url\": \"https://kr.trip.com/moments/theme/poi-seokchon-lake-65178304-attraction-993137/\", \"title\": \"2025년 석촌호수 추천 어트랙션 (10월 업데이트)| Trip Moments\", \"content\": \"석촌호수 벚꽃축제. #4월꽃피는날 석촌호수 벚꽃축제는 서울 석촌호수에서 매년 ... 석촌호수는 역에서 도보로 약 200m 거리에 있습니다. ￼. 5 2. 더 보기\", \"score\": 0.7306941, \"raw_content\": null}], \"response_time\": 0.0, \"request_id\": \"4fed8c5a-9953-4cd1-8e88-d43d01eeb33e\"}\n",
      "------------------------------ messages ------------------------------\n",
      "==================================\u001b[1m Ai Message \u001b[0m==================================\n",
      "Tool Calls:\n",
      "  tavily_search (call_poFtibfjFwqGaub6p6bKSRmx)\n",
      " Call ID: call_poFtibfjFwqGaub6p6bKSRmx\n",
      "  Args:\n",
      "    query: 2025 송파낭만페스타 세부내용\n",
      "------------------------------ messages ------------------------------\n",
      "=================================\u001b[1m Tool Message \u001b[0m=================================\n",
      "Name: tavily_search\n",
      "\n",
      "{\"query\": \"2025 송파낭만페스타 세부내용\", \"follow_up_questions\": null, \"answer\": null, \"images\": [], \"results\": [{\"url\": \"https://www.nxsquare.com/cocsmagazinefestivals/?bmode=view&idx=168069363\", \"title\": \"2025 송파낭만페스타, 석촌호수에서 펼쳐지는 클래식·영화음악\", \"content\": \"가을, 석촌호수에서 만나는 낭만의 하루 · 2025 송파낭만페스타 프로그램 총정리 · 행사 개요 · 공연 프로그램 · 1부 : 청소년 힐링 콘서트 (11:00 ~ 12:\", \"score\": 0.82117355, \"raw_content\": null}, {\"url\": \"https://www.songpafac.or.kr/notice_view.do?brd_seq=1245&curPage=&searchtype=&keyword=\", \"title\": \"공지사항 - 송파문화재단\", \"content\": \"작년 송파낭만다방을 통해 진행되었던 음악힐링공연이 올해 2025송파낭만페스타로 더욱 크게 돌아왔습니다. 가을 밤, 사연과 음악을 들으며 힐링하는 시간\", \"score\": 0.7763013, \"raw_content\": null}, {\"url\": \"https://www.gukjenews.com/news/articleView.html?idxno=3397750\", \"title\": \"2025 송파 낭만페스타 일정·초대가수 라인업 한눈에 - 국제뉴스\", \"content\": \"현장에서는 공연과 함께 즐길 수 있는 네일 아트, 한글서예 체험, '낭만네컷' 포토존, 가을 먹거리 부스가 마련된다.\", \"score\": 0.64986813, \"raw_content\": null}], \"response_time\": 0.0, \"request_id\": \"a0b88436-0a74-42cf-80d1-a1976eea9460\"}\n",
      "------------------------------ messages ------------------------------\n",
      "==================================\u001b[1m Ai Message \u001b[0m==================================\n",
      "\n",
      "2025년 10월 석촌역 근처 석촌호수에서 \"2025 송파낭만페스타\"라는 축제가 열립니다. 축제는 10월 11일 토요일 11시부터 19시 30분까지 진행되며, 장소는 서울 송파구 석촌호수 서호 수변무대입니다.\n",
      "\n",
      "세부 내용은 다음과 같습니다:\n",
      "- 1부: 청소년 힐링 콘서트 (11:00 ~ 12:00)\n",
      "- 공연과 함께 네일 아트, 한글서예 체험, '낭만네컷' 포토존, 가을 먹거리 부스 등 다양한 즐길 거리가 마련됩니다.\n",
      "- 가을 밤에 사연과 음악을 들으며 힐링하는 시간을 제공하는 음악힐링공연도 포함되어 있습니다.\n",
      "\n",
      "더 궁금한 점 있으면 알려주세요!\n"
     ]
    }
   ],
   "source": [
    "# 프롬프트에서 웹서치를 해달라고 명시적으로 말해야, tool을 사용하는 것 주의\n",
    "question = \"2025년 석촌역에 10월에 축제 하는거 알아? 우선 그 축제부터 찾고, 이후에 세부내용 웹서치 해서 다시 말해줘\"\n",
    "\n",
    "for evt in graph.stream({\"messages\": question}, stream_mode=\"values\"):\n",
    "    for key, value in evt.items():\n",
    "        print(\"-\"*30, key, \"-\"*30)\n",
    "        value[-1].pretty_print()"
   ]
  }
 ],
 "metadata": {
  "kernelspec": {
   "display_name": "langgraph-basic",
   "language": "python",
   "name": "python3"
  },
  "language_info": {
   "codemirror_mode": {
    "name": "ipython",
    "version": 3
   },
   "file_extension": ".py",
   "mimetype": "text/x-python",
   "name": "python",
   "nbconvert_exporter": "python",
   "pygments_lexer": "ipython3",
   "version": "3.11.13"
  }
 },
 "nbformat": 4,
 "nbformat_minor": 5
}
