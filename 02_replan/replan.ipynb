{
 "cells": [
  {
   "cell_type": "code",
   "execution_count": 1,
   "id": "ad989329",
   "metadata": {},
   "outputs": [
    {
     "data": {
      "text/plain": [
       "True"
      ]
     },
     "execution_count": 1,
     "metadata": {},
     "output_type": "execute_result"
    }
   ],
   "source": [
    "from dotenv import load_dotenv\n",
    "from typing import Annotated, TypedDict, Literal,List\n",
    "\n",
    "load_dotenv()"
   ]
  },
  {
   "cell_type": "code",
   "execution_count": 2,
   "id": "ac7e43bf",
   "metadata": {},
   "outputs": [],
   "source": [
    "from langchain_openai import ChatOpenAI\n",
    "from langchain_tavily import TavilySearch\n",
    "\n",
    "# Control model : gpt-4.1-mini\n",
    "ctrl_llm = ChatOpenAI(\n",
    "    model_name='gpt-4.1-mini',\n",
    "    temperature=0\n",
    ")\n",
    "\n",
    "# Agent model : gpt-4o\n",
    "agent_llm = ChatOpenAI(\n",
    "    model_name='gpt-4o',\n",
    "    temperature=0\n",
    ")\n",
    "\n",
    "search_tool = TavilySearch(max_results=3)\n",
    "TOOLS = [search_tool]"
   ]
  },
  {
   "cell_type": "code",
   "execution_count": 3,
   "id": "7457c9a9",
   "metadata": {},
   "outputs": [],
   "source": [
    "from langgraph.graph.message import add_messages\n",
    "\n",
    "class State(TypedDict, total=False):\n",
    "    # 사용자의 첫 질문\n",
    "    question: str \n",
    "    \n",
    "    # 대화 기록 \n",
    "    messages: Annotated[list, add_messages]\n",
    "    \n",
    "    # plan 노드에서 만든 단계별 계획\n",
    "    plan: str\n",
    "    \n",
    "    # 현재 그래프가 진행 중인 단계\n",
    "    status: Literal['planning', 'acting', 'replanning', 'done']\n",
    "    \n",
    "    # 현재의 반복 진행 수\n",
    "    step: int\n",
    "    \n",
    "    # 최대 반복 횟수\n",
    "    max_iters: int\n",
    "    \n",
    "    # 전체 과정을 log화\n",
    "    log: List[str]\n",
    "    \n",
    "    # 최종 결과\n",
    "    report: str"
   ]
  },
  {
   "cell_type": "code",
   "execution_count": 4,
   "id": "52af4554",
   "metadata": {},
   "outputs": [],
   "source": [
    "# 상태 State 에 실행 로그를 추가\n",
    "def _log(state: State, message: str) -> None:\n",
    "    state.setdefault(\"log\", []).append(message)"
   ]
  },
  {
   "cell_type": "code",
   "execution_count": 5,
   "id": "e239ef37",
   "metadata": {},
   "outputs": [],
   "source": [
    "# 1. Planner 노드\n",
    "from langchain_core.prompts import ChatPromptTemplate\n",
    "\n",
    "planner_system_prompt = (\n",
    "    \"\"\"\n",
    "        # Role\n",
    "        너는 사업 분석에 능통하고, DB를 잘 이해하는 DBA야\n",
    "        \n",
    "        # Context\n",
    "        \n",
    "        # Rule\n",
    "        - 1. 크게 4단계로 나누어서 계획을 수립해줘\n",
    "        -- (1) db 스키마 및 컬럼 분석\n",
    "        -- (2) 분석에 필요한 쿼리 생성\n",
    "        -- (3) 쿼리 실행 결과\n",
    "        -- (4) (1) + (3) 결과를 조합한 분석\n",
    "    \"\"\"\n",
    ")\n",
    "\n",
    "def planner_node(state: State) -> State:\n",
    "    \n",
    "    question = state.get('question', '')\n",
    "    \n",
    "    prompt = ChatPromptTemplate.from_messages([\n",
    "        ('system', planner_system_prompt),\n",
    "        ('user', f'[목표] : {question}\\n\\n 계획 섹션만 마크다운으로 작성')\n",
    "    ])\n",
    "    \n",
    "    response = ctrl_llm.invoke(prompt.format_messages())\n",
    "    new = {**state, 'plan': response.content, 'status': 'planning', 'step': state.get('step', 0)}\n",
    "    new.setdefault('messages', []).append(response)\n",
    "    _log(new, '[planner] 계획 설정')\n",
    "    \n",
    "    return new"
   ]
  },
  {
   "cell_type": "code",
   "execution_count": 6,
   "id": "b85e48a4",
   "metadata": {},
   "outputs": [],
   "source": [
    "# 2. Agent 노드\n",
    "from langgraph.prebuilt import create_react_agent\n",
    "\n",
    "agent = create_react_agent(agent_llm, TOOLS)\n",
    "\n",
    "def agent_node(state: State) -> State:\n",
    "    \n",
    "    agent_system_prompt = (\n",
    "    \"\"\"\n",
    "        # Role\n",
    "        너는 사업 분석에 능통하고, DB를 잘 이해하는 DBA야\n",
    "        \n",
    "        # Context\n",
    "        \n",
    "        # Rule\n",
    "        가지고 있는 plan 단계에 따라서 필요한 행동을 가지고 있는 tool을 가지고 수행\n",
    "    \"\"\"\n",
    "    )\n",
    "    \n",
    "    messages = [(\"system\", agent_system_prompt), *state.get(\"messages\", [])] \n",
    "    response = agent.invoke({\"messages\", messages})\n",
    "    \n",
    "    new = {**state, \"status\": 'acting'}\n",
    "    new.setdefault('messages', []).extend(response['messages'])\n",
    "    _log(new, '[agent] 행동/응답')\n",
    "    \n",
    "    return new"
   ]
  },
  {
   "cell_type": "code",
   "execution_count": 7,
   "id": "2ca0ebd6",
   "metadata": {},
   "outputs": [],
   "source": [
    "# 3. Tool 노드\n",
    "from langgraph.prebuilt import ToolNode\n",
    "\n",
    "tools_node = ToolNode(TOOLS)\n",
    "\n",
    "replan_system_prompt = (\n",
    "    \"\"\"\n",
    "        # Role\n",
    "        당신은 Replanner입니다. 직전 도구/에이전트 결과를 분석해서 다음 행동을 지시하세요\n",
    "        \n",
    "        # Rule\n",
    "        1. 충분한 근거가 모였으면 '종료'를 선언\n",
    "        2. 아니면 다음 검색/행동을 지시\n",
    "    \"\"\"\n",
    ")\n",
    "\n",
    "def replan_node(state: State) -> State:\n",
    "    \n",
    "    messages = state.get('messages', [])\n",
    "    \n",
    "    response = ctrl_llm.invoke([\n",
    "        #{'role': 'system', 'content' : replan_system_prompt}\n",
    "        ('system', replan_system_prompt),\n",
    "        *messages,\n",
    "        ('user', '지금 상태에서 종료 또는 다음 행동을 지시해')\n",
    "    ])\n",
    "    \n",
    "    text = response.content\n",
    "    \n",
    "    done = ('종료' in text) or ('충분' in text and '근거' in text)\n",
    "    \n",
    "    if done:\n",
    "        new['status'] = 'done'\n",
    "    \n",
    "    new = {**state}\n",
    "    new.setdefault('messages', []).append(response)\n",
    "    \n",
    "    current_step = int(state.get('step', 0)) + 1\n",
    "    new['step'] = current_step\n",
    "    \n",
    "    return new "
   ]
  },
  {
   "cell_type": "code",
   "execution_count": 8,
   "id": "8c42c4e8",
   "metadata": {},
   "outputs": [],
   "source": [
    "# 4. Final 노드\n",
    "\n",
    "final_system_prompt = (\n",
    "    \"\"\"\n",
    "    지금까지 대화/검색 내용을 바탕으로 최종 리포트를 작성하세요\n",
    "    핵심 포인트 -> 리스크/기회 -> 참고 자료 요약\n",
    "    \"\"\"\n",
    ")\n",
    "\n",
    "def final_node(state: State):\n",
    "    \n",
    "    messages = state.get('messages', [])\n",
    "    response = ctrl_llm.invoke([\n",
    "        ('system', final_system_prompt),\n",
    "        *messages\n",
    "    ])\n",
    "    \n",
    "    new = {**state, 'report': response.content, 'status' : 'done'}\n",
    "    new.setdefault('messages', []).append(response)\n",
    "    _log(new, '[final] 최종 리포트 생성')\n",
    "    \n",
    "    return new "
   ]
  },
  {
   "cell_type": "code",
   "execution_count": 9,
   "id": "75a7c976",
   "metadata": {},
   "outputs": [],
   "source": [
    "# 5. 랭그래프 생성\n",
    "from langgraph.graph import StateGraph, START, END\n",
    "from langchain_core.messages import AIMessage\n",
    "\n",
    "builder = StateGraph(State)"
   ]
  },
  {
   "cell_type": "code",
   "execution_count": 10,
   "id": "aeec1c0c",
   "metadata": {},
   "outputs": [
    {
     "data": {
      "text/plain": [
       "<langgraph.graph.state.StateGraph at 0x130b2605690>"
      ]
     },
     "execution_count": 10,
     "metadata": {},
     "output_type": "execute_result"
    }
   ],
   "source": [
    "builder.add_node('planner', planner_node)\n",
    "builder.add_node('agent', agent_node)\n",
    "builder.add_node('tools', tools_node)\n",
    "builder.add_node('replan', replan_node)\n",
    "builder.add_node('final', final_node)"
   ]
  },
  {
   "cell_type": "code",
   "execution_count": 11,
   "id": "d1bb33c9",
   "metadata": {},
   "outputs": [
    {
     "data": {
      "text/plain": [
       "<langgraph.graph.state.StateGraph at 0x130b2605690>"
      ]
     },
     "execution_count": 11,
     "metadata": {},
     "output_type": "execute_result"
    }
   ],
   "source": [
    "# 항상 연결 node(실선)\n",
    "builder.add_edge(START, 'planner')\n",
    "builder.add_edge('planner', 'agent')\n",
    "builder.add_edge('tools', 'replan')"
   ]
  },
  {
   "cell_type": "code",
   "execution_count": 12,
   "id": "79beaff7",
   "metadata": {},
   "outputs": [
    {
     "data": {
      "text/plain": [
       "<langgraph.graph.state.StateGraph at 0x130b2605690>"
      ]
     },
     "execution_count": 12,
     "metadata": {},
     "output_type": "execute_result"
    }
   ],
   "source": [
    "# 조건부 연결 node(점선)\n",
    "def router_agent(state: State):\n",
    "    \n",
    "    messages = state.get('messages', [])\n",
    "    if not messages:\n",
    "        return 'final'\n",
    "    \n",
    "    last = messages[-1]\n",
    "    if getattr(last, 'tool_calls', None):\n",
    "        return 'tools'\n",
    "    \n",
    "    return 'final'\n",
    "\n",
    "builder.add_conditional_edges('agent', router_agent, {'tools': 'tools', 'final': 'final'})\n",
    "\n",
    "def router_replan(state: State):\n",
    "    \n",
    "    if state.get('status') == 'done':\n",
    "        return 'final'\n",
    "    else: \n",
    "        return 'agent'\n",
    "    \n",
    "builder.add_conditional_edges('replan', router_replan, {'agent': 'agent', 'final': 'final'})"
   ]
  },
  {
   "cell_type": "code",
   "execution_count": 13,
   "id": "9936366a",
   "metadata": {},
   "outputs": [
    {
     "data": {
      "image/png": "[encoded data removed]",
      "text/plain": [
       "<langgraph.graph.state.CompiledStateGraph object at 0x00000130B5FD3450>"
      ]
     },
     "execution_count": 13,
     "metadata": {},
     "output_type": "execute_result"
    }
   ],
   "source": [
    "graph = builder.compile()\n",
    "graph"
   ]
  }
 ],
 "metadata": {
  "kernelspec": {
   "display_name": "langgraph-basic",
   "language": "python",
   "name": "python3"
  },
  "language_info": {
   "codemirror_mode": {
    "name": "ipython",
    "version": 3
   },
   "file_extension": ".py",
   "mimetype": "text/x-python",
   "name": "python",
   "nbconvert_exporter": "python",
   "pygments_lexer": "ipython3",
   "version": "3.11.13"
  }
 },
 "nbformat": 4,
 "nbformat_minor": 5
}
